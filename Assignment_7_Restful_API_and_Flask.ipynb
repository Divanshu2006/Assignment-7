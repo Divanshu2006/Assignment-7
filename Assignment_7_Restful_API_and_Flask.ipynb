{
  "nbformat": 4,
  "nbformat_minor": 0,
  "metadata": {
    "colab": {
      "provenance": []
    },
    "kernelspec": {
      "name": "python3",
      "display_name": "Python 3"
    },
    "language_info": {
      "name": "python"
    }
  },
  "cells": [
    {
      "cell_type": "code",
      "execution_count": null,
      "metadata": {
        "id": "-VaNzsja3luw"
      },
      "outputs": [],
      "source": []
    },
    {
      "cell_type": "markdown",
      "source": [
        "Q1. What is a RESTful API?\n",
        " - A RESTful API is an Application Programming Interface that follows the principles of REST (Representational State Transfer). It uses HTTP methods (GET, POST, PUT, DELETE, etc.) to perform operations on resources, which are typically represented in JSON or XML format."
      ],
      "metadata": {
        "id": "_QCGxl_T4Bno"
      }
    },
    {
      "cell_type": "markdown",
      "source": [
        "Q2. Explain the concept of API specification.\n",
        "- An API specification is a detailed document that defines how an API works.\n",
        "It includes:\n",
        "\n",
        "  - Endpoints (URLs)\n",
        "\n",
        "  - Supported HTTP methods\n",
        "\n",
        "  - Request/response formats\n",
        "\n",
        "   - Authentication methods\n",
        "\n",
        "   - Error codes"
      ],
      "metadata": {
        "id": "ILJDT2OS4Xjs"
      }
    },
    {
      "cell_type": "markdown",
      "source": [
        "Q3. What is Flask, and why is it popular for building APIs?\n",
        "\n",
        "- Flask is a lightweight Python web framework used for building web applications and APIs.\n",
        "It is popular because:\n",
        "\n",
        "  - Minimal & flexible (\"micro-framework\")\n",
        "\n",
        "  - Easy to learn and use\n",
        "\n",
        "  - Built-in development server & debugger\n",
        "\n",
        "  - Extensions available (Flask-RESTful, Flask-SQLAlchemy)\n",
        "\n",
        "  - Suitable for quick prototyping as well as production APIs."
      ],
      "metadata": {
        "id": "JqJDFwLQ4rPn"
      }
    },
    {
      "cell_type": "markdown",
      "source": [
        "Q4. What is routing in Flask?\n",
        "\n",
        "- Routing is the process of mapping a URL path to a function in Flask."
      ],
      "metadata": {
        "id": "_grNxwSR419T"
      }
    },
    {
      "cell_type": "markdown",
      "source": [
        "Q5. How do you create a simple Flask application?"
      ],
      "metadata": {
        "id": "mblUSUxm5FRd"
      }
    },
    {
      "cell_type": "code",
      "source": [
        "from flask import Flask\n",
        "\n",
        "app = Flask(__name__)\n",
        "\n",
        "@app.route('/')\n",
        "def home():\n",
        "    return \"Hello Flask!\"\n",
        "\n",
        "if __name__ == '__main__':\n",
        "    app.run(port=5000, debug=True, use_reloader=False)\n"
      ],
      "metadata": {
        "colab": {
          "base_uri": "https://localhost:8080/"
        },
        "id": "x4eUyKEP5RTw",
        "outputId": "b0d7377b-aa30-4a31-c624-56e8521d2dd1"
      },
      "execution_count": null,
      "outputs": [
        {
          "output_type": "stream",
          "name": "stdout",
          "text": [
            " * Serving Flask app '__main__'\n",
            " * Debug mode: on\n"
          ]
        },
        {
          "output_type": "stream",
          "name": "stderr",
          "text": [
            "INFO:werkzeug:\u001b[31m\u001b[1mWARNING: This is a development server. Do not use it in a production deployment. Use a production WSGI server instead.\u001b[0m\n",
            " * Running on http://127.0.0.1:5000\n",
            "INFO:werkzeug:\u001b[33mPress CTRL+C to quit\u001b[0m\n"
          ]
        }
      ]
    },
    {
      "cell_type": "markdown",
      "source": [
        "Q6. What are HTTP methods used in RESTful APIs?\n",
        "\n",
        "GET – Retrieve data\n",
        "\n",
        "POST – Create new data\n",
        "\n",
        "PUT – Update existing data\n",
        "\n",
        "PATCH – Partially update data\n",
        "\n",
        "DELETE – Remove data"
      ],
      "metadata": {
        "id": "4DdYJjvGC5Yq"
      }
    },
    {
      "cell_type": "markdown",
      "source": [
        "Q7. What is the purpose of the @app.route() decorator in Flask?\n",
        "\n",
        "- It binds a URL to a Python function, so when a client visits that URL, Flask executes the corresponding function."
      ],
      "metadata": {
        "id": "Koi5tcMlDYSV"
      }
    },
    {
      "cell_type": "markdown",
      "source": [
        "Q8. Difference between GET and POST HTTP methods\n",
        "Method\tUse\tData sent\tIdempotent?\n",
        "| Method | Use           | Data sent      | Idempotent? |\n",
        "| ------ | ------------- | -------------- | ----------- |\n",
        "| GET    | Retrieve data | URL parameters | Yes         |\n",
        "| POST   | Create data   | Request body   | No          |\n"
      ],
      "metadata": {
        "id": "OgOMJtwvDfgA"
      }
    },
    {
      "cell_type": "markdown",
      "source": [
        "Q9. How do you handle errors in Flask APIs?"
      ],
      "metadata": {
        "id": "DK6SmlgCDoN-"
      }
    },
    {
      "cell_type": "code",
      "source": [
        "from flask import Flask, jsonify\n",
        "\n",
        "app = Flask(__name__)\n",
        "\n",
        "@app.errorhandler(404)\n",
        "def not_found(error):\n",
        "    return jsonify({\"error\": \"Resource not found\"}), 404\n"
      ],
      "metadata": {
        "id": "BrpTDUbyDp6F"
      },
      "execution_count": null,
      "outputs": []
    },
    {
      "cell_type": "markdown",
      "source": [
        "Q10. How do you connect Flask to a SQL database?\n",
        "\n",
        "Using Flask-SQLAlchemy:"
      ],
      "metadata": {
        "id": "y14mZOeRD1as"
      }
    },
    {
      "cell_type": "code",
      "metadata": {
        "colab": {
          "base_uri": "https://localhost:8080/"
        },
        "id": "5c68cd58",
        "outputId": "df87c940-3ba0-4949-bc4d-865ae3b28437"
      },
      "source": [
        "%pip install Flask-SQLAlchemy"
      ],
      "execution_count": null,
      "outputs": [
        {
          "output_type": "stream",
          "name": "stdout",
          "text": [
            "Collecting Flask-SQLAlchemy\n",
            "  Downloading flask_sqlalchemy-3.1.1-py3-none-any.whl.metadata (3.4 kB)\n",
            "Requirement already satisfied: flask>=2.2.5 in /usr/local/lib/python3.12/dist-packages (from Flask-SQLAlchemy) (3.1.2)\n",
            "Requirement already satisfied: sqlalchemy>=2.0.16 in /usr/local/lib/python3.12/dist-packages (from Flask-SQLAlchemy) (2.0.43)\n",
            "Requirement already satisfied: blinker>=1.9.0 in /usr/local/lib/python3.12/dist-packages (from flask>=2.2.5->Flask-SQLAlchemy) (1.9.0)\n",
            "Requirement already satisfied: click>=8.1.3 in /usr/local/lib/python3.12/dist-packages (from flask>=2.2.5->Flask-SQLAlchemy) (8.2.1)\n",
            "Requirement already satisfied: itsdangerous>=2.2.0 in /usr/local/lib/python3.12/dist-packages (from flask>=2.2.5->Flask-SQLAlchemy) (2.2.0)\n",
            "Requirement already satisfied: jinja2>=3.1.2 in /usr/local/lib/python3.12/dist-packages (from flask>=2.2.5->Flask-SQLAlchemy) (3.1.6)\n",
            "Requirement already satisfied: markupsafe>=2.1.1 in /usr/local/lib/python3.12/dist-packages (from flask>=2.2.5->Flask-SQLAlchemy) (3.0.2)\n",
            "Requirement already satisfied: werkzeug>=3.1.0 in /usr/local/lib/python3.12/dist-packages (from flask>=2.2.5->Flask-SQLAlchemy) (3.1.3)\n",
            "Requirement already satisfied: greenlet>=1 in /usr/local/lib/python3.12/dist-packages (from sqlalchemy>=2.0.16->Flask-SQLAlchemy) (3.2.4)\n",
            "Requirement already satisfied: typing-extensions>=4.6.0 in /usr/local/lib/python3.12/dist-packages (from sqlalchemy>=2.0.16->Flask-SQLAlchemy) (4.15.0)\n",
            "Downloading flask_sqlalchemy-3.1.1-py3-none-any.whl (25 kB)\n",
            "Installing collected packages: Flask-SQLAlchemy\n",
            "Successfully installed Flask-SQLAlchemy-3.1.1\n"
          ]
        }
      ]
    },
    {
      "cell_type": "code",
      "metadata": {
        "colab": {
          "base_uri": "https://localhost:8080/",
          "height": 321
        },
        "id": "372e07ed",
        "outputId": "e72069fd-1fbb-466a-fc9c-6adec2186b70"
      },
      "source": [
        "from flask_sqlalchemy import SQLAlchemy\n",
        "\n",
        "app.config['SQLALCHEMY_DATABASE_URI'] = 'sqlite:///test.db'\n",
        "db = SQLAlchemy(app)"
      ],
      "execution_count": null,
      "outputs": [
        {
          "output_type": "error",
          "ename": "RuntimeError",
          "evalue": "A 'SQLAlchemy' instance has already been registered on this Flask app. Import and use that instance instead.",
          "traceback": [
            "\u001b[0;31m---------------------------------------------------------------------------\u001b[0m",
            "\u001b[0;31mRuntimeError\u001b[0m                              Traceback (most recent call last)",
            "\u001b[0;32m/tmp/ipython-input-475752570.py\u001b[0m in \u001b[0;36m<cell line: 0>\u001b[0;34m()\u001b[0m\n\u001b[1;32m      2\u001b[0m \u001b[0;34m\u001b[0m\u001b[0m\n\u001b[1;32m      3\u001b[0m \u001b[0mapp\u001b[0m\u001b[0;34m.\u001b[0m\u001b[0mconfig\u001b[0m\u001b[0;34m[\u001b[0m\u001b[0;34m'SQLALCHEMY_DATABASE_URI'\u001b[0m\u001b[0;34m]\u001b[0m \u001b[0;34m=\u001b[0m \u001b[0;34m'sqlite:///test.db'\u001b[0m\u001b[0;34m\u001b[0m\u001b[0;34m\u001b[0m\u001b[0m\n\u001b[0;32m----> 4\u001b[0;31m \u001b[0mdb\u001b[0m \u001b[0;34m=\u001b[0m \u001b[0mSQLAlchemy\u001b[0m\u001b[0;34m(\u001b[0m\u001b[0mapp\u001b[0m\u001b[0;34m)\u001b[0m\u001b[0;34m\u001b[0m\u001b[0;34m\u001b[0m\u001b[0m\n\u001b[0m",
            "\u001b[0;32m/usr/local/lib/python3.12/dist-packages/flask_sqlalchemy/extension.py\u001b[0m in \u001b[0;36m__init__\u001b[0;34m(self, app, metadata, session_options, query_class, model_class, engine_options, add_models_to_shell, disable_autonaming)\u001b[0m\n\u001b[1;32m    276\u001b[0m \u001b[0;34m\u001b[0m\u001b[0m\n\u001b[1;32m    277\u001b[0m         \u001b[0;32mif\u001b[0m \u001b[0mapp\u001b[0m \u001b[0;32mis\u001b[0m \u001b[0;32mnot\u001b[0m \u001b[0;32mNone\u001b[0m\u001b[0;34m:\u001b[0m\u001b[0;34m\u001b[0m\u001b[0;34m\u001b[0m\u001b[0m\n\u001b[0;32m--> 278\u001b[0;31m             \u001b[0mself\u001b[0m\u001b[0;34m.\u001b[0m\u001b[0minit_app\u001b[0m\u001b[0;34m(\u001b[0m\u001b[0mapp\u001b[0m\u001b[0;34m)\u001b[0m\u001b[0;34m\u001b[0m\u001b[0;34m\u001b[0m\u001b[0m\n\u001b[0m\u001b[1;32m    279\u001b[0m \u001b[0;34m\u001b[0m\u001b[0m\n\u001b[1;32m    280\u001b[0m     \u001b[0;32mdef\u001b[0m \u001b[0m__repr__\u001b[0m\u001b[0;34m(\u001b[0m\u001b[0mself\u001b[0m\u001b[0;34m)\u001b[0m \u001b[0;34m->\u001b[0m \u001b[0mstr\u001b[0m\u001b[0;34m:\u001b[0m\u001b[0;34m\u001b[0m\u001b[0;34m\u001b[0m\u001b[0m\n",
            "\u001b[0;32m/usr/local/lib/python3.12/dist-packages/flask_sqlalchemy/extension.py\u001b[0m in \u001b[0;36minit_app\u001b[0;34m(self, app)\u001b[0m\n\u001b[1;32m    310\u001b[0m         \"\"\"\n\u001b[1;32m    311\u001b[0m         \u001b[0;32mif\u001b[0m \u001b[0;34m\"sqlalchemy\"\u001b[0m \u001b[0;32min\u001b[0m \u001b[0mapp\u001b[0m\u001b[0;34m.\u001b[0m\u001b[0mextensions\u001b[0m\u001b[0;34m:\u001b[0m\u001b[0;34m\u001b[0m\u001b[0;34m\u001b[0m\u001b[0m\n\u001b[0;32m--> 312\u001b[0;31m             raise RuntimeError(\n\u001b[0m\u001b[1;32m    313\u001b[0m                 \u001b[0;34m\"A 'SQLAlchemy' instance has already been registered on this Flask app.\"\u001b[0m\u001b[0;34m\u001b[0m\u001b[0;34m\u001b[0m\u001b[0m\n\u001b[1;32m    314\u001b[0m                 \u001b[0;34m\" Import and use that instance instead.\"\u001b[0m\u001b[0;34m\u001b[0m\u001b[0;34m\u001b[0m\u001b[0m\n",
            "\u001b[0;31mRuntimeError\u001b[0m: A 'SQLAlchemy' instance has already been registered on this Flask app. Import and use that instance instead."
          ]
        }
      ]
    },
    {
      "cell_type": "markdown",
      "source": [
        "Q11. Role of Flask-SQLAlchemy\n",
        "\n",
        "- It is an ORM (Object Relational Mapper) for Flask that allows you to interact with databases using Python classes instead of raw SQL."
      ],
      "metadata": {
        "id": "YhvwIx42Fwfo"
      }
    },
    {
      "cell_type": "markdown",
      "source": [
        "Q 12. What are Flask blueprints, and how are they useful?\n",
        "\n",
        "Blueprints allow you to organize a Flask app into modules for larger projects, e.g., separating routes for users, products, etc."
      ],
      "metadata": {
        "id": "t3tvctn8F3FP"
      }
    },
    {
      "cell_type": "markdown",
      "source": [
        "Q 13. Purpose of Flask's request object\n",
        "\n",
        "- The request object gives access to incoming HTTP request data, including form data, JSON payloads, query parameters, and headers."
      ],
      "metadata": {
        "id": "xNzVPlXAF60C"
      }
    },
    {
      "cell_type": "markdown",
      "source": [
        "Q14. How to create a RESTful API endpoint using Flask"
      ],
      "metadata": {
        "id": "sN2fVsPXGBkA"
      }
    },
    {
      "cell_type": "code",
      "source": [
        "from flask import Flask, jsonify\n",
        "\n",
        "app = Flask(__name__)\n",
        "\n",
        "@app.route('/api/data', methods=['GET'])\n",
        "def get_data():\n",
        "    return jsonify({\"data\": [1, 2, 3]})\n"
      ],
      "metadata": {
        "id": "raypqCA6GFuo"
      },
      "execution_count": null,
      "outputs": []
    },
    {
      "cell_type": "markdown",
      "source": [
        "Q 15. Purpose of Flask's jsonify() function\n",
        "\n",
        "Converts Python dictionaries/lists into JSON responses with the correct content-type (application/json)."
      ],
      "metadata": {
        "id": "7t-KLRT1GNGD"
      }
    },
    {
      "cell_type": "markdown",
      "source": [
        "Q 16. Explain Flask’s url_for() function\n",
        "\n",
        "Generates the URL for a function by its endpoint name, which helps avoid hardcoding URLs:"
      ],
      "metadata": {
        "id": "dj5w5prXGRne"
      }
    },
    {
      "cell_type": "code",
      "source": [
        "url_for('home')  # returns '/'\n"
      ],
      "metadata": {
        "colab": {
          "base_uri": "https://localhost:8080/",
          "height": 141
        },
        "id": "eFDTLP4mGUIi",
        "outputId": "4e2c203d-4c5f-4620-cd05-ffd723428a2b"
      },
      "execution_count": null,
      "outputs": [
        {
          "output_type": "error",
          "ename": "NameError",
          "evalue": "name 'url_for' is not defined",
          "traceback": [
            "\u001b[0;31m---------------------------------------------------------------------------\u001b[0m",
            "\u001b[0;31mNameError\u001b[0m                                 Traceback (most recent call last)",
            "\u001b[0;32m/tmp/ipython-input-1564701836.py\u001b[0m in \u001b[0;36m<cell line: 0>\u001b[0;34m()\u001b[0m\n\u001b[0;32m----> 1\u001b[0;31m \u001b[0murl_for\u001b[0m\u001b[0;34m(\u001b[0m\u001b[0;34m'home'\u001b[0m\u001b[0;34m)\u001b[0m  \u001b[0;31m# returns '/'\u001b[0m\u001b[0;34m\u001b[0m\u001b[0;34m\u001b[0m\u001b[0m\n\u001b[0m",
            "\u001b[0;31mNameError\u001b[0m: name 'url_for' is not defined"
          ]
        }
      ]
    },
    {
      "cell_type": "markdown",
      "source": [
        "Q 17. How does Flask handle static files?\n",
        "\n",
        "Static files like CSS, JS, or images are stored in the static/ folder. Access them via:"
      ],
      "metadata": {
        "id": "ftj8oSuLGZ_G"
      }
    },
    {
      "cell_type": "code",
      "source": [
        "<link rel=\"stylesheet\" href=\"{{ url_for('static', filename='style.css') }}\">\n"
      ],
      "metadata": {
        "colab": {
          "base_uri": "https://localhost:8080/",
          "height": 106
        },
        "id": "jLa6IS5hGdwb",
        "outputId": "1b2a4453-2cec-4446-d4dd-3e6f412d2f83"
      },
      "execution_count": null,
      "outputs": [
        {
          "output_type": "error",
          "ename": "SyntaxError",
          "evalue": "invalid syntax (ipython-input-2639956066.py, line 1)",
          "traceback": [
            "\u001b[0;36m  File \u001b[0;32m\"/tmp/ipython-input-2639956066.py\"\u001b[0;36m, line \u001b[0;32m1\u001b[0m\n\u001b[0;31m    <link rel=\"stylesheet\" href=\"{{ url_for('static', filename='style.css') }}\">\u001b[0m\n\u001b[0m    ^\u001b[0m\n\u001b[0;31mSyntaxError\u001b[0m\u001b[0;31m:\u001b[0m invalid syntax\n"
          ]
        }
      ]
    },
    {
      "cell_type": "markdown",
      "source": [
        "Q 18. API specification and its role in building a Flask API\n",
        "\n",
        "It ensures consistency in endpoints, methods, request/response formats, and status codes, making it easier for frontend/backend integration."
      ],
      "metadata": {
        "id": "ZTZtdFlyGlt4"
      }
    },
    {
      "cell_type": "markdown",
      "source": [
        "Q 19. HTTP status codes and their importance\n",
        "\n",
        "- Indicate the result of an HTTP request\n",
        "\n",
        "Examples:\n",
        "\n",
        "  - 200 OK\n",
        "\n",
        "  - 201 Created\n",
        "\n",
        "  - 400 Bad Request\n",
        "\n",
        "  - 404 Not Found\n",
        "\n",
        "  - 500 Internal Server Error"
      ],
      "metadata": {
        "id": "Ff9bVJxzJBuj"
      }
    },
    {
      "cell_type": "markdown",
      "source": [
        "Q 20. How to handle POST requests in Flask"
      ],
      "metadata": {
        "id": "ma6O7NH_JNLB"
      }
    },
    {
      "cell_type": "code",
      "source": [
        "from flask import request\n",
        "\n",
        "@app.route('/api/create', methods=['POST'])\n",
        "def create_item():\n",
        "    data = request.get_json()\n",
        "    return jsonify({\"received\": data}), 201\n"
      ],
      "metadata": {
        "id": "KsTvnj--JQ84"
      },
      "execution_count": null,
      "outputs": []
    },
    {
      "cell_type": "markdown",
      "source": [
        "Q 21. How to secure a Flask API\n",
        "\n",
        "- Use HTTPS\n",
        "\n",
        " - Implement token-based authentication (JWT)\n",
        "\n",
        "- Validate input data to prevent injection\n",
        "\n",
        "- Rate limiting"
      ],
      "metadata": {
        "id": "QKVRN3DlJUsw"
      }
    },
    {
      "cell_type": "markdown",
      "source": [
        "Q 22. Significance of Flask-RESTful extension\n",
        "\n",
        " - Simplifies API development with Resource classes\n",
        "\n",
        " - Handles request parsing, routing, and responses\n",
        "\n",
        " - Reduces boilerplate code"
      ],
      "metadata": {
        "id": "CFZpKQVoJjIo"
      }
    },
    {
      "cell_type": "markdown",
      "source": [
        "Q 23. Role of Flask’s session object\n",
        "\n",
        "- Stores user-specific data (like login info) across requests in a secure, encrypted cookie."
      ],
      "metadata": {
        "id": "Piqr_IK1Jrb0"
      }
    },
    {
      "cell_type": "markdown",
      "source": [
        "#NEW SECTION\n",
        "#**PRACTICAL QUETIONS**"
      ],
      "metadata": {
        "id": "KlmSaM5SJzG7"
      }
    },
    {
      "cell_type": "markdown",
      "source": [
        "Q 1. How do you create a basic Flask application?"
      ],
      "metadata": {
        "id": "r0SbyklMJ8MR"
      }
    },
    {
      "cell_type": "code",
      "source": [
        "from flask import Flask\n",
        "\n",
        "app = Flask(__name__)\n",
        "\n",
        "@app.route('/')\n",
        "def home():\n",
        "    return \"Hello, Flask!\"\n",
        "\n",
        "if __name__ == '__main__':\n",
        "    app.run(port=5000, debug=True, use_reloader=False)"
      ],
      "metadata": {
        "colab": {
          "base_uri": "https://localhost:8080/"
        },
        "id": "gkLZTqzzKA7m",
        "outputId": "fab62d5c-2727-46c8-b2c2-f7e620c88b53"
      },
      "execution_count": null,
      "outputs": [
        {
          "output_type": "stream",
          "name": "stdout",
          "text": [
            " * Serving Flask app '__main__'\n",
            " * Debug mode: on\n"
          ]
        },
        {
          "output_type": "stream",
          "name": "stderr",
          "text": [
            "INFO:werkzeug:\u001b[31m\u001b[1mWARNING: This is a development server. Do not use it in a production deployment. Use a production WSGI server instead.\u001b[0m\n",
            " * Running on http://127.0.0.1:5000\n",
            "INFO:werkzeug:\u001b[33mPress CTRL+C to quit\u001b[0m\n",
            "INFO:werkzeug: * Restarting with watchdog (inotify)\n"
          ]
        }
      ]
    },
    {
      "cell_type": "markdown",
      "source": [
        "Q 2. How do you serve static files like images or CSS in Flask?\n",
        "\n",
        "- Place files in a folder named static/.\n",
        "\n",
        "- Access them using url_for('static', filename='file.ext'):"
      ],
      "metadata": {
        "id": "Nn1HfNrwKuL6"
      }
    },
    {
      "cell_type": "code",
      "source": [
        "<link rel=\"stylesheet\" href=\"{{ url_for('static', filename='style.css') }}\">\n",
        "<img src=\"{{ url_for('static', filename='image.png') }}\">\n"
      ],
      "metadata": {
        "id": "xMTaoAhyLiQo"
      },
      "execution_count": null,
      "outputs": []
    },
    {
      "cell_type": "markdown",
      "source": [
        "Q 3. How do you define different routes with different HTTP methods in Flask?"
      ],
      "metadata": {
        "id": "gvSl8hmLLLH4"
      }
    },
    {
      "cell_type": "code",
      "source": [
        "from flask import request\n",
        "\n",
        "@app.route('/submit', methods=['GET', 'POST'])\n",
        "def submit():\n",
        "    if request.method == 'POST':\n",
        "        return \"Form submitted!\"\n",
        "    else:\n",
        "        return \"Show form\"\n"
      ],
      "metadata": {
        "id": "0wsMSjezLS4S"
      },
      "execution_count": null,
      "outputs": []
    },
    {
      "cell_type": "markdown",
      "source": [
        "Q 4. How do you render HTML templates in Flask?\n",
        "\n",
        "- Place HTML files in a folder named templates/.\n",
        "\n",
        "- Use render_template():"
      ],
      "metadata": {
        "id": "UPxGP922Ln0E"
      }
    },
    {
      "cell_type": "code",
      "source": [
        "from flask import render_template\n",
        "\n",
        "@app.route('/')\n",
        "def home():\n",
        "    return render_template('index.html')\n"
      ],
      "metadata": {
        "id": "e05xJ6LBL0VM"
      },
      "execution_count": null,
      "outputs": []
    },
    {
      "cell_type": "markdown",
      "source": [
        "Q 5. How can you generate URLs for routes in Flask using url_for"
      ],
      "metadata": {
        "id": "TT7wTshpL3vc"
      }
    },
    {
      "cell_type": "code",
      "source": [
        "from flask import url_for\n",
        "\n",
        "# In Python\n",
        "print(url_for('home'))  # Output: '/'\n",
        "\n",
        "# In Jinja template\n",
        "<a href=\"{{ url_for('home') }}\">Home</a>\n"
      ],
      "metadata": {
        "id": "Qb7eTNFuL9ZJ"
      },
      "execution_count": null,
      "outputs": []
    },
    {
      "cell_type": "markdown",
      "source": [
        "Q 6. How do you handle forms in Flask?"
      ],
      "metadata": {
        "id": "GRmr8Kf7MEJU"
      }
    },
    {
      "cell_type": "code",
      "source": [
        "from flask import request\n",
        "\n",
        "@app.route('/login', methods=['GET', 'POST'])\n",
        "def login():\n",
        "    if request.method == 'POST':\n",
        "        username = request.form['username']\n",
        "        password = request.form['password']\n",
        "        return f\"Username: {username}, Password: {password}\"\n",
        "    return render_template('login.html')\n"
      ],
      "metadata": {
        "id": "RMQU_EMGMGxQ"
      },
      "execution_count": null,
      "outputs": []
    },
    {
      "cell_type": "markdown",
      "source": [
        "Q 7. How can you validate form data in Flask?\n",
        "\n",
        "- Use Flask-WTF for forms and validation:"
      ],
      "metadata": {
        "id": "7clV-t88MKBt"
      }
    },
    {
      "cell_type": "code",
      "source": [
        "from flask_wtf import FlaskForm\n",
        "from wtforms import StringField, PasswordField\n",
        "from wtforms.validators import DataRequired\n",
        "\n",
        "class LoginForm(FlaskForm):\n",
        "    username = StringField('Username', validators=[DataRequired()])\n",
        "    password = PasswordField('Password', validators=[DataRequired()])\n"
      ],
      "metadata": {
        "id": "X2_3pxJfMOJJ"
      },
      "execution_count": null,
      "outputs": []
    },
    {
      "cell_type": "markdown",
      "source": [
        "Q 8. How do you manage sessions in Flask?"
      ],
      "metadata": {
        "id": "dhOiGkafMRZB"
      }
    },
    {
      "cell_type": "code",
      "source": [
        "from flask import session\n",
        "\n",
        "app.secret_key = 'your_secret_key'\n",
        "\n",
        "@app.route('/set_session')\n",
        "def set_session():\n",
        "    session['user'] = 'Divanshu'\n",
        "    return \"Session set!\"\n",
        "\n",
        "@app.route('/get_session')\n",
        "def get_session():\n",
        "    return session.get('user', 'Not logged in')\n"
      ],
      "metadata": {
        "id": "DW5MoYo4MTyg"
      },
      "execution_count": null,
      "outputs": []
    },
    {
      "cell_type": "markdown",
      "source": [
        "Q 9. How do you redirect to a different route in Flask?"
      ],
      "metadata": {
        "id": "kVuc7553MYXS"
      }
    },
    {
      "cell_type": "code",
      "source": [
        "from flask import redirect, url_for\n",
        "\n",
        "@app.route('/old')\n",
        "def old():\n",
        "    return redirect(url_for('new'))\n",
        "\n",
        "@app.route('/new')\n",
        "def new():\n",
        "    return \"This is the new page\"\n"
      ],
      "metadata": {
        "id": "TrxNIGenMXPq"
      },
      "execution_count": null,
      "outputs": []
    },
    {
      "cell_type": "markdown",
      "source": [
        "Q 10. How do you handle errors in Flask (e.g., 404)?"
      ],
      "metadata": {
        "id": "207Q10hAMe-m"
      }
    },
    {
      "cell_type": "code",
      "source": [
        "@app.errorhandler(404)\n",
        "def page_not_found(e):\n",
        "    return render_template('404.html'), 404\n"
      ],
      "metadata": {
        "id": "BkAdjtEQMiCq"
      },
      "execution_count": null,
      "outputs": []
    },
    {
      "cell_type": "markdown",
      "source": [
        "Q 11. How do you structure a Flask app using Blueprints?"
      ],
      "metadata": {
        "id": "e3mII_ZZMpJP"
      }
    },
    {
      "cell_type": "code",
      "source": [
        "from flask import Blueprint, Flask\n",
        "\n",
        "bp = Blueprint('users', __name__, url_prefix='/users')\n",
        "\n",
        "@bp.route('/')\n",
        "def user_home():\n",
        "    return \"Users Home\"\n",
        "\n",
        "app = Flask(__name__)\n",
        "app.register_blueprint(bp)\n"
      ],
      "metadata": {
        "id": "G7FJe507MsBp"
      },
      "execution_count": null,
      "outputs": []
    },
    {
      "cell_type": "markdown",
      "source": [
        "Q 12. How do you define a custom Jinja filter in Flask?"
      ],
      "metadata": {
        "id": "1EoIQhhEMs4U"
      }
    },
    {
      "cell_type": "code",
      "source": [
        "@app.template_filter('reverse')\n",
        "def reverse_filter(s):\n",
        "    return s[::-1]\n",
        "\n",
        "# In template: {{ \"Hello\" | reverse }} -> \"olleH\"\n"
      ],
      "metadata": {
        "id": "-xweSy4bMzXE"
      },
      "execution_count": null,
      "outputs": []
    },
    {
      "cell_type": "markdown",
      "source": [
        "Q 13. How can you redirect with query parameters in Flask?"
      ],
      "metadata": {
        "id": "UMqB0o5MM3Rq"
      }
    },
    {
      "cell_type": "code",
      "source": [
        "return redirect(url_for('search', q='flask'))\n",
        "# Redirects to: /search?q=flask\n"
      ],
      "metadata": {
        "id": "cx5O8KeQM6YQ"
      },
      "execution_count": null,
      "outputs": []
    },
    {
      "cell_type": "markdown",
      "source": [
        "Q 14. How do you return JSON responses in Flask?"
      ],
      "metadata": {
        "id": "auZS2mKAM9mh"
      }
    },
    {
      "cell_type": "code",
      "source": [
        "from flask import jsonify\n",
        "\n",
        "@app.route('/api/data')\n",
        "def api_data():\n",
        "    return jsonify({\"name\": \"Divanshu\", \"age\": 22})\n"
      ],
      "metadata": {
        "id": "E-Vm5AmuNAo3"
      },
      "execution_count": null,
      "outputs": []
    },
    {
      "cell_type": "markdown",
      "source": [
        "Q 15. How do you capture URL parameters in Flask?"
      ],
      "metadata": {
        "id": "S-XjvcJYNBfS"
      }
    },
    {
      "cell_type": "code",
      "source": [
        "@app.route('/user/<username>')\n",
        "def user_profile(username):\n",
        "    return f\"Profile of {username}\"\n",
        "\n",
        "# URL /user/divanshu -> Output: Profile of divanshu\n"
      ],
      "metadata": {
        "id": "1VGACSBdNHCa"
      },
      "execution_count": null,
      "outputs": []
    }
  ]
}